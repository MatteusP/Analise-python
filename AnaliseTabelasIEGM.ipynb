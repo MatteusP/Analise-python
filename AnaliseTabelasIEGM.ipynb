{
  "nbformat": 4,
  "nbformat_minor": 0,
  "metadata": {
    "colab": {
      "provenance": []
    },
    "kernelspec": {
      "name": "python3",
      "display_name": "Python 3"
    },
    "language_info": {
      "name": "python"
    }
  },
  "cells": [
    {
      "cell_type": "markdown",
      "source": [
        "\n",
        "Coerência entre os Resultados dos Indicadores dos Programas e das Metas das Ações\n",
        "\n",
        "\n"
      ],
      "metadata": {
        "id": "ZFPmU76xZNz6"
      }
    },
    {
      "cell_type": "code",
      "execution_count": 30,
      "metadata": {
        "id": "0oKC9wzuh7oW"
      },
      "outputs": [],
      "source": [
        "import pandas as pd\n",
        "import numpy as np\n"
      ]
    },
    {
      "cell_type": "code",
      "source": [
        "# Carregar as tabelas do Excel\n",
        "acoes_df = pd.read_excel('/content/IEGM 2023.xlsx', sheet_name='iegm ação')\n",
        "programas_df = pd.read_excel('/content/IEGM 2023.xlsx', sheet_name='iegm programa')\n",
        "\n",
        "# Exibir as primeiras linhas de cada tabela para inspeção\n",
        "print(\"Tabela de Ações:\")\n",
        "print(acoes_df.head())\n",
        "\n",
        "print(\"\\nTabela de Programas:\")\n",
        "print(programas_df.head())\n"
      ],
      "metadata": {
        "id": "W9ypgAJpiTeF"
      },
      "execution_count": 31,
      "outputs": []
    },
    {
      "cell_type": "code",
      "source": [
        "# Definir funções para calcular E1 e E2\n",
        "def calcular_E1(meta_alcancada, meta_estimada):\n",
        "    if meta_estimada == 0:\n",
        "        return 0\n",
        "    return meta_alcancada / meta_estimada\n",
        "\n",
        "def calcular_E2(valor_alcancado, valor_estimado):\n",
        "    if valor_estimado == 0:\n",
        "        return 0\n",
        "    return valor_alcancado / valor_estimado\n"
      ],
      "metadata": {
        "id": "v8Jn6TQCiw0A"
      },
      "execution_count": 32,
      "outputs": []
    },
    {
      "cell_type": "code",
      "source": [
        "# Adicionar colunas para E1 e E2 nas tabelas\n",
        "programas_df['E1'] = programas_df.apply(lambda row: calcular_E2(row['valor_alcancado_indicador'], row['valor_estimado_indicador_vf2025']), axis=1)\n",
        "acoes_df['E2'] = acoes_df.apply(lambda row: calcular_E1(row['meta_fisica_alcancada'], row['meta_fisica_estimada']), axis=1)\n",
        "\n",
        "\n",
        "# Calcular média de E1 e E2 por programa\n",
        "media_E1 = programas_df.groupby('codigo_programa')['E1'].mean().reset_index()\n",
        "media_E2 = acoes_df.groupby('codigo_programa')['E2'].mean().reset_index()\n",
        "\n",
        "# Verificar códigos de programa que não aparecem em ambas as tabelas\n",
        "codigos_programas_unicos = pd.merge(media_E1[['codigo_programa']], media_E2[['codigo_programa']], on='codigo_programa', how='outer', indicator=True)\n",
        "\n",
        "# Filtrar para encontrar os códigos que estão apenas em uma das tabelas\n",
        "codigos_somente_programas = codigos_programas_unicos[codigos_programas_unicos['_merge'] == 'left_only']\n",
        "codigos_somente_acoes = codigos_programas_unicos[codigos_programas_unicos['_merge'] == 'right_only']\n",
        "\n",
        "print(\"Códigos de Programas presentes apenas na tabela de Programas:\")\n",
        "print(codigos_somente_programas['codigo_programa'])\n",
        "\n",
        "print(\"\\nCódigos de Programas presentes apenas na tabela de Ações:\")\n",
        "print(codigos_somente_acoes['codigo_programa'])\n",
        "\n",
        "# Unir as médias para calcular a diferença média, mantendo todos os registros\n",
        "coerencia_df = pd.merge(media_E1, media_E2, on='codigo_programa', how='outer', suffixes=('_E1', '_E2'))\n",
        "\n",
        "# Preencher valores NaN com 0 para os cálculos\n",
        "coerencia_df['E1'] = coerencia_df['E1'].fillna(0)\n",
        "coerencia_df['E2'] = coerencia_df['E2'].fillna(0)\n",
        "\n",
        "# Calcular E e substituir 0 por 1 onde necessário\n",
        "coerencia_df['E'] = abs(coerencia_df['E1'] - coerencia_df['E2'])\n",
        "coerencia_df.loc[(coerencia_df['E1'] == 0) | (coerencia_df['E2'] == 0), 'E'] = 1\n",
        "\n",
        "# Tratar casos onde o somatório A ou C são 0\n",
        "coerencia_df['E'] = coerencia_df.apply(lambda row: 1 if row['E1'] == 0 or row['E2'] == 0 else row['E'], axis=1)\n",
        "\n",
        "# Exibir resultados\n",
        "print(\"Média de E1 por Programa:\")\n",
        "print(media_E1)\n",
        "print(\"\\nMédia de E2 por Ação:\")\n",
        "print(media_E2)\n",
        "print(\"\\nCoerência entre os Resultados dos Indicadores dos Programas e das Metas das Ações:\")\n",
        "coerencia_df\n"
      ],
      "metadata": {
        "id": "U0z_TLGPkE9F"
      },
      "execution_count": 33,
      "outputs": []
    },
    {
      "cell_type": "code",
      "source": [
        "# Tratar casos onde o somatório A ou C são 0\n",
        "print(coerencia_df['E1'].mean())\n",
        "print(coerencia_df['E2'].mean())\n",
        "total_A = acoes_df['meta_fisica_estimada'].sum()\n",
        "print(\"Soma das ações = \", total_A)\n",
        "total_C = programas_df['valor_estimado_indicador_vf2025'].sum()\n",
        "print(\"Soma dos Programas = \", total_C)\n",
        "if total_A == 0 or total_C == 0:\n",
        "    Ef = 1\n",
        "else:\n",
        "    Ef = coerencia_df['E'].mean()\n",
        "\n",
        "print(\"Ef =\", Ef)\n"
      ],
      "metadata": {
        "colab": {
          "base_uri": "https://localhost:8080/"
        },
        "id": "t85DP0jemFWV",
        "outputId": "7395812c-845c-4e3b-c100-11dfac7f556a"
      },
      "execution_count": null,
      "outputs": [
        {
          "output_type": "stream",
          "name": "stdout",
          "text": [
            "1.3413990523503452\n",
            "19.37439409014485\n",
            "Soma das ações =  334234\n",
            "Soma dos Programas =  1534044\n",
            "Ef = 19.475478946473803\n"
          ]
        }
      ]
    },
    {
      "cell_type": "code",
      "source": [
        "# Função para calcular a pontuação baseada em Ef\n",
        "# Os valores de E1, E2 e E estão em %, necessário dividir por 100 para obter o real valor de Ef\n",
        "Ef = Ef/100\n",
        "def calcular_pontuacao(Ef):\n",
        "    if Ef <= 0.20:\n",
        "        return 250\n",
        "    elif 0.20 < Ef < 0.40:\n",
        "        return ((0.40 - Ef) / 0.20) * 250\n",
        "    else:\n",
        "        return 0\n",
        "\n",
        "# Calcular a pontuação final\n",
        "pontuacao_final = calcular_pontuacao(Ef)\n",
        "print(\"Pontuação Final =\", pontuacao_final)\n",
        "print(\"Ef = \", Ef)\n"
      ],
      "metadata": {
        "colab": {
          "base_uri": "https://localhost:8080/"
        },
        "id": "fTS1K0MNncYe",
        "outputId": "5955e332-81cf-4f04-8727-4fd957f1d2e1"
      },
      "execution_count": null,
      "outputs": [
        {
          "output_type": "stream",
          "name": "stdout",
          "text": [
            "Pontuação Final = 250\n",
            "Ef =  0.19475478946473804\n"
          ]
        }
      ]
    },
    {
      "cell_type": "markdown",
      "source": [
        "Confronto entre o Resultado Físico Alcançado pelas Metas das Ações e os Recursos Financeiros Utilizados"
      ],
      "metadata": {
        "id": "It4kkq59ZXRT"
      }
    },
    {
      "cell_type": "code",
      "source": [
        "# Carregar os dados das ações\n",
        "acoes_df = pd.read_excel('/content/IEGM 2023.xlsx', sheet_name='iegm ação')"
      ],
      "metadata": {
        "id": "Y1PWdHgfZucF"
      },
      "execution_count": null,
      "outputs": []
    },
    {
      "cell_type": "code",
      "source": [
        "# Calcular H1 e H2\n",
        "acoes_df['H1'] = acoes_df.apply(lambda row: row['meta_fisica_alcancada'] / row['meta_fisica_estimada'] if row['meta_fisica_estimada'] != 0 else 0, axis=1)\n",
        "acoes_df['H2'] = acoes_df.apply(lambda row: row['valor_liquido'] / row['dotacao_final'] if row['dotacao_final'] != 0 else 0, axis=1)\n",
        "\n",
        "# Exibir as primeiras linhas para inspeção\n",
        "#acoes_df\n"
      ],
      "metadata": {
        "id": "N18Kg8NwbDr5"
      },
      "execution_count": 34,
      "outputs": []
    },
    {
      "cell_type": "code",
      "source": [
        "# Calcular |μH1 - μH2|\n",
        "mu_H1 = acoes_df['H1'].mean()\n",
        "mu_H2 = acoes_df['H2'].mean()\n",
        "\n",
        "# Os valores de H1 estão em %, necessário dividir por 100 para obter o real valor\n",
        "mu_H1 = mu_H1/100\n",
        "\n",
        "# Exibir valores\n",
        "print(\"H1 = \", mu_H1)\n",
        "print(\"H2 = \", mu_H2)\n",
        "\n",
        "# Cálculo do módulo da diferença\n",
        "H = abs(mu_H1 - mu_H2)"
      ],
      "metadata": {
        "colab": {
          "base_uri": "https://localhost:8080/"
        },
        "id": "vSNIr1-Ebvaz",
        "outputId": "95e70e6e-3419-44b7-c51b-8682f2f51924"
      },
      "execution_count": null,
      "outputs": [
        {
          "output_type": "stream",
          "name": "stdout",
          "text": [
            "H1 =  0.07724361047216952\n",
            "H2 =  0.6075812607882853\n"
          ]
        }
      ]
    },
    {
      "cell_type": "code",
      "source": [
        "# Tratar casos especiais\n",
        "if acoes_df['meta_fisica_estimada'].sum() == 0 or acoes_df['dotacao_final'].sum() == 0:\n",
        "    H = 1\n",
        "\n",
        "print(\"H =\", H)"
      ],
      "metadata": {
        "colab": {
          "base_uri": "https://localhost:8080/"
        },
        "id": "vPlMFBPHbzlZ",
        "outputId": "1ce1f0d2-8875-4be5-fc19-2e4652fa3ae6"
      },
      "execution_count": null,
      "outputs": [
        {
          "output_type": "stream",
          "name": "stdout",
          "text": [
            "H = 0.5303376503161158\n"
          ]
        }
      ]
    },
    {
      "cell_type": "code",
      "source": [
        "# Calcular a pontuação final baseada em H\n",
        "#H = H/100\n",
        "print(\"Valor de H = \", H)\n",
        "def calcular_pontuacao(H):\n",
        "    if H <= 0.20:\n",
        "        return 250\n",
        "    elif 0.20 < H < 0.40:\n",
        "        return ((0.40 - H) / 0.20) * 250\n",
        "    else:\n",
        "        return 0\n",
        "\n",
        "pontuacao_final = calcular_pontuacao(H)\n",
        "print(\"Pontuação Final =\", pontuacao_final)"
      ],
      "metadata": {
        "colab": {
          "base_uri": "https://localhost:8080/"
        },
        "id": "yMP8H18mcCq5",
        "outputId": "a676d759-953d-4c77-bce8-b664e7017e07"
      },
      "execution_count": null,
      "outputs": [
        {
          "output_type": "stream",
          "name": "stdout",
          "text": [
            "Valor de H =  0.5303376503161158\n",
            "Pontuação Final = 0\n"
          ]
        }
      ]
    }
  ]
}